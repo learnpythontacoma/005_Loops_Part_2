{
 "cells": [
  {
   "cell_type": "markdown",
   "metadata": {},
   "source": [
    "<img src ='graphics/loop.png'>\n",
    "\n",
    "# Loops - Part 2\n",
    "\n",
    "In our last meeting, we discussed\n",
    "1. looping through each element in a list using `for` loops\n",
    "1. testing conditions using `if-elif-else` loops\n",
    "1. testing multiple conditions using both `and` and `or` modifiers in an `if` loop\n",
    "1. nested loops\n",
    "\n",
    "and we practiced all of these. \n",
    "\n",
    "In this meeting, we will add to our knowledge of loops and develop our first text-based game using loops of various types to bring all of our work together. Along the way we will encounter a few additional python tricks that we will use regularly in the future.\n",
    "\n",
    "To get underway, let's do some warm up exercises.\n",
    "\n",
    "# Warm-up Exercises\n",
    "\n",
    "## Exercise 1\n",
    "\n",
    "For our first warm up, let's iterate through a list of friends' names and print \"___ is my friend!\". We gave you the list of friends. Use a `for` loop for this exercise."
   ]
  },
  {
   "cell_type": "code",
   "execution_count": null,
   "metadata": {},
   "outputs": [],
   "source": [
    "a = ['Bob', 'Carol', 'Ted', 'Alice']\n"
   ]
  },
  {
   "cell_type": "markdown",
   "metadata": {},
   "source": [
    "Great! \n",
    "\n",
    "\n",
    "## Exercise 2\n",
    "Yesterday, Carol posted a great complement to you on social media. She is your BFF now. \n",
    "\n",
    "For the second exercise, using the same list of friends' names, use a `for` loop and an `if` loop. Iterate through the list as you did in the previous exercise printing that each of the people are your friend, but for Carol, print out that she is your BFF.    "
   ]
  },
  {
   "cell_type": "code",
   "execution_count": null,
   "metadata": {},
   "outputs": [],
   "source": [
    "a = ['Bob', 'Carol', 'Ted', 'Alice']\n"
   ]
  },
  {
   "cell_type": "markdown",
   "metadata": {},
   "source": [
    "Excellent! So far things have been really easy for you. Let's keep this up. \n",
    "\n",
    "\n",
    "## Exercise 3\n",
    "In the next exercise, we want to do a nested loop. We have given you one list of integers. Using only that one list to generate all other data that you might want to use, iterate through the list, add 3 to each item, and print it out in a matrix format. Your output should look like this:\n",
    "\n",
    "<img src ='graphics/matrix.png'>"
   ]
  },
  {
   "cell_type": "code",
   "execution_count": null,
   "metadata": {},
   "outputs": [],
   "source": [
    "a = [1, 2, 3]\n"
   ]
  },
  {
   "cell_type": "markdown",
   "metadata": {},
   "source": [
    "\n",
    "## Exercise 4\n",
    "\n",
    "In our last example, we used three print lines to print out the next line in our code. There is another way to handle this. \n",
    "\n",
    "Python has the operator \"'\\n'\" to break a print statement into separate lines. To use this, write your print statement as follows. \n",
    "\n",
    "print(a, '\\n', b, '\\n', c)\n",
    "\n",
    "Do the last exercise again, but this time try the \"'\\n'\" operator in your print statement."
   ]
  },
  {
   "cell_type": "code",
   "execution_count": null,
   "metadata": {},
   "outputs": [],
   "source": [
    "a = [1, 2, 3]\n"
   ]
  },
  {
   "cell_type": "markdown",
   "metadata": {},
   "source": [
    "## Exercise 5\n",
    "\n",
    "Oops! Better, but not perfect. What happened? And how do we fix it?\n",
    "\n",
    "*HINT:* a, b and c are lists. Using the `+` operator and strings takes out spaces. "
   ]
  },
  {
   "cell_type": "code",
   "execution_count": null,
   "metadata": {},
   "outputs": [],
   "source": [
    "a = [1, 2, 3]\n"
   ]
  },
  {
   "cell_type": "markdown",
   "metadata": {},
   "source": [
    "# `while` loops\n",
    "\n",
    "Now that we are warmed up, let's look at another way to iterate through a loop called, `while` loops. \n",
    "\n",
    "The `for` loop takes a collection of items and executes a block of code one for each item in the collection. So far, we have been using lists for our collection. In the future, we will used other data storage conventions, but `for` loops act the same for each. In contrast, the `while` loop runs as long as, or *while*, a certain condition is true. \n",
    "\n",
    "Run the block of code for an example. "
   ]
  },
  {
   "cell_type": "code",
   "execution_count": null,
   "metadata": {},
   "outputs": [],
   "source": [
    "iterator = 0\n",
    "\n",
    "while iterator <= 5:\n",
    "    print(iterator)\n",
    "    iterator += 1"
   ]
  },
  {
   "cell_type": "markdown",
   "metadata": {},
   "source": [
    "# `while` loops and user input\n",
    "\n",
    "`while` loops are common in python coding, especially when the program is interacting with people. For that reason, let's take a small side trip to learn `input` statements, then we will come back and to how `while` loops are commonly used. \n",
    "\n",
    "You have seen `input` statements before in previous exercises and homework. `input` statements allow the user to interact with the program. \n",
    "\n",
    "The syntax for an `input` statement is `variable = input('text message', prompt)`.\n",
    "   \n",
    "An `input` will print out the text message (this is optional, you don't have to use a text message), then wait for the user to type a *prompt*. This prompt is saved as a string in the variable. \n",
    "\n",
    "An example of using an `input` statement with a `while` loop is the parrot game. Run the next block of the code to see how this works, then we will talk about it. "
   ]
  },
  {
   "cell_type": "code",
   "execution_count": null,
   "metadata": {},
   "outputs": [],
   "source": [
    "prompt = '\\nTell me something, and I will repeat it back to you.\\nEnter \"quit\" to end the program.'\n",
    "message = ''\n",
    "while message != 'quit':\n",
    "    message = input(prompt)\n",
    "    print(message)"
   ]
  },
  {
   "cell_type": "markdown",
   "metadata": {},
   "source": [
    "---\n",
    "\n",
    "So what happened in is example?\n",
    "1. We defined a prompt that tells the user their two options: enter a message or enter the quit value\n",
    "1. Store whatever message value the user typed in. We established the first message variable as blank so the `while` loop would not end before it started. \n",
    "1. We entered the `while` loop and tested whether or not the message *did not* equal 'quit'. \n",
    "1. Since it did not equal 'quit' the `while` loop ran the `input` statement and assigned the input to the message variable. \n",
    "1. We printed the variable.\n",
    "1. Then we iterated back up to the `while` statement. Until the message equaled 'quit' it continued to run. \n",
    "\n",
    "But do you notice that at the end when you typed \"quit\", python printed \"quit\" as if it was a statement you wanted to repeat? Use the next block of code and see if you can fix this blip. "
   ]
  },
  {
   "cell_type": "code",
   "execution_count": null,
   "metadata": {},
   "outputs": [],
   "source": [
    "\n",
    "        "
   ]
  },
  {
   "cell_type": "markdown",
   "metadata": {},
   "source": [
    "# `Break` function to end loops\n",
    "\n",
    "Another way to handle this same problem is to use a `break` statement. A `break` statement immediately exits a loop when the condition in the `if` statement is met. \n",
    "\n",
    "Run the next block to see how it works. "
   ]
  },
  {
   "cell_type": "code",
   "execution_count": null,
   "metadata": {},
   "outputs": [],
   "source": [
    "prompt = '\\nTell me something, and I will repeat it back to you.\\nEnter \"quit\" to end the program.'\n",
    "message = ''\n",
    "\n",
    "while message != 'quit':\n",
    "    message = input(prompt)\n",
    "    \n",
    "    if message == 'quit':\n",
    "        break\n",
    "    else:\n",
    "        print(message)\n",
    "        "
   ]
  },
  {
   "cell_type": "markdown",
   "metadata": {},
   "source": [
    "# `in` Statements\n",
    "\n",
    "`in` statements are used in a number of ways within loops. \n",
    "\n",
    "We have already used them in `for` loop to traverse through a list. \n",
    "\n",
    "We can also use them in connection with `range()` to iterate a set number of times through a loop before moving on to the next part of the program. "
   ]
  },
  {
   "cell_type": "code",
   "execution_count": null,
   "metadata": {},
   "outputs": [],
   "source": [
    "# Example 1\n",
    "\n",
    "a = ['Bob', 'Carol', 'Ted', 'Alice']\n",
    "\n",
    "for iterator in range(len(a)):\n",
    "    print(iterator)"
   ]
  },
  {
   "cell_type": "code",
   "execution_count": null,
   "metadata": {},
   "outputs": [],
   "source": [
    "# Example 2\n",
    "\n",
    "for iterator in range(0,4):\n",
    "    print(iterator)"
   ]
  },
  {
   "cell_type": "code",
   "execution_count": null,
   "metadata": {},
   "outputs": [],
   "source": [
    "# Example 3\n",
    "\n",
    "for iterator in range(4):\n",
    "    print(iterator)"
   ]
  },
  {
   "cell_type": "code",
   "execution_count": null,
   "metadata": {},
   "outputs": [],
   "source": [
    "# Example 4\n",
    "\n",
    "iterator = 0\n",
    "for _ in range(4):\n",
    "    print(iterator)\n",
    "    iterator += 1"
   ]
  },
  {
   "cell_type": "markdown",
   "metadata": {},
   "source": [
    "# Tuples\n",
    "\n",
    "*Tuples* are a special category of lists. Tuples are behave like lists, but unlike lists they cannot be altered. We call this **immutable**. Where lists can be altered, sorted, new values added or removed, tuples cannot. They are static. \n",
    "\n",
    "A tuple is called just like a list, **EXCEPT** that where a list uses square brackets [ ], tuples use regular parenthesises ( ).\n",
    "\n",
    "In code, a tuple will act like a list, is iterable like a list, but is static unlike a list. Below is an example of a tuple being established in a variable called, `friends`. "
   ]
  },
  {
   "cell_type": "code",
   "execution_count": 1,
   "metadata": {
    "ExecuteTime": {
     "end_time": "2019-09-29T19:14:32.876823Z",
     "start_time": "2019-09-29T19:14:32.872888Z"
    }
   },
   "outputs": [
    {
     "name": "stdout",
     "output_type": "stream",
     "text": [
      "Bob is my friend.\n",
      "Carol is my friend.\n",
      "Ted is my friend.\n",
      "Alice is my friend.\n"
     ]
    }
   ],
   "source": [
    "friends = ('Bob', \"Carol\", 'Ted', 'Alice') #Note the use of regular parenthesises. \n",
    "\n",
    "# And also see how this tuple acts just like a list.\n",
    "for friend in friends:\n",
    "    print(friend + ' is my friend.')"
   ]
  },
  {
   "cell_type": "markdown",
   "metadata": {},
   "source": [
    "# Generating Random Numbers in Python\n",
    "\n",
    "By now you have seen us use a random number generator in Python. Because it is so important in programming to generate a random number, we want to cover this function.\n",
    "\n",
    "Python's random number generator resides in the `random` library. Because it is not resident within python's base code, we have to tell python to import the necessary library for it to reference first.\n",
    "\n",
    "Once python has imported and read the random library so it knows what to do, we simply call up the library. \n",
    "\n",
    "Check out the code snippet below to see how it works to generate a number between 1 and 100."
   ]
  },
  {
   "cell_type": "code",
   "execution_count": null,
   "metadata": {},
   "outputs": [],
   "source": [
    "import random # telling python to go to the library called \"random\" and read it. \n",
    "\n",
    "for x in range(5): # We covered this above.\n",
    "    print(random.randint(1,101))"
   ]
  },
  {
   "cell_type": "markdown",
   "metadata": {},
   "source": [
    "What if, however, you wanted to select a random integer that was between 1 and 100 but also a multiple of five? This is a little more complicated. The process is the same, but you'll need to use a little more arithmetic to make sure that the random integer is in fact a multiple of two. Check out the code below:"
   ]
  },
  {
   "cell_type": "code",
   "execution_count": null,
   "metadata": {},
   "outputs": [],
   "source": [
    "import random # telling python to go to the library called \"random\" and read it. \n",
    "\n",
    "for x in range(5): # We covered this above.\n",
    "    print(random.randint(1,50)*2)"
   ]
  },
  {
   "cell_type": "markdown",
   "metadata": {},
   "source": [
    "This code will generate a random number between 1 and 50, and then multiply that number by 2. So not only will every number printed be a multiple of 2.\n",
    "\n",
    "---\n",
    "\n",
    "<img src ='graphics/wargames.jpg'>\n",
    "\n",
    "\n",
    "# \"Shall we play a game?'\n",
    "\n",
    "So now we come to the exciting part of loops, bringing everything we have learned together in a practical and fun way. We are going to make our first text-based game in python. \n",
    "\n",
    "The game is \"The Guessing Game\". Users are given three attempts to guess a random number between one and ten. After the user enters her number, python tells the user whether the guess was too high or too low and goes on to the next guess. If the user correctly guesses the number in three attempts, the user is congratulated and the game ends. If the user does not correctly guess the number in three attempts, the user is told that she didn't correctly guess the number and python tells them what was the number. Then, python asks the user if she wants to play again. If they type 'yes' the game begins again. If they type 'no', then python says, 'good-bye' and the game ends. Don't forget to start with giving the user instructions. \n",
    "\n",
    "You will work in teams to develop this game.\n",
    "\n",
    "**Bonus:** \n",
    "1. Personlize the game by first asking the user her name, then use her name with every answer. \n",
    "1. Handle the situation of the user typing \"yes\" or \"no\" with either lower case or upper case.\n"
   ]
  },
  {
   "cell_type": "code",
   "execution_count": null,
   "metadata": {},
   "outputs": [],
   "source": []
  },
  {
   "cell_type": "code",
   "execution_count": null,
   "metadata": {},
   "outputs": [],
   "source": []
  }
 ],
 "metadata": {
  "kernelspec": {
   "display_name": "Python 3",
   "language": "python",
   "name": "python3"
  },
  "language_info": {
   "codemirror_mode": {
    "name": "ipython",
    "version": 3
   },
   "file_extension": ".py",
   "mimetype": "text/x-python",
   "name": "python",
   "nbconvert_exporter": "python",
   "pygments_lexer": "ipython3",
   "version": "3.7.3"
  },
  "toc": {
   "base_numbering": 1,
   "nav_menu": {},
   "number_sections": true,
   "sideBar": true,
   "skip_h1_title": false,
   "title_cell": "Table of Contents",
   "title_sidebar": "Contents",
   "toc_cell": false,
   "toc_position": {},
   "toc_section_display": true,
   "toc_window_display": true
  },
  "varInspector": {
   "cols": {
    "lenName": 16,
    "lenType": 16,
    "lenVar": 40
   },
   "kernels_config": {
    "python": {
     "delete_cmd_postfix": "",
     "delete_cmd_prefix": "del ",
     "library": "var_list.py",
     "varRefreshCmd": "print(var_dic_list())"
    },
    "r": {
     "delete_cmd_postfix": ") ",
     "delete_cmd_prefix": "rm(",
     "library": "var_list.r",
     "varRefreshCmd": "cat(var_dic_list()) "
    }
   },
   "types_to_exclude": [
    "module",
    "function",
    "builtin_function_or_method",
    "instance",
    "_Feature"
   ],
   "window_display": false
  }
 },
 "nbformat": 4,
 "nbformat_minor": 2
}
